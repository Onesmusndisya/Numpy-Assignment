{
 "cells": [
  {
   "cell_type": "code",
   "execution_count": 9,
   "id": "1685e495-10b1-4c78-ad4f-e74daadb3795",
   "metadata": {},
   "outputs": [
    {
     "name": "stdout",
     "output_type": "stream",
     "text": [
      "Mean: 168.80, Median: 172.0, Standard Deviation: 15.11\n",
      "Normalized Heights: [-1.90582259 -1.57495061 -0.44998589  0.41028125  0.80732763 -0.05293952\n",
      "  1.07202521  0.27793246  0.14558367  1.27054839]\n",
      "Tallest student index: 9, Shortest student index: 0\n",
      "Height difference: 48 cm\n",
      "Randomly selected heights: [171 145 168 140 173]\n"
     ]
    }
   ],
   "source": [
    "#Numpy Assignment\n",
    "\n",
    "import numpy as np\n",
    "\n",
    "# Dataset\n",
    "heights = np.array([140, 145, 162, 175, 181, 168, 185, 173, 171, 188])\n",
    "\n",
    "# 1. Calculate the mean, median, and standard deviation of the students' heights\n",
    "mean_heights = np.mean(heights)\n",
    "median_heights = np.median(heights)\n",
    "std_dev_heights = np.std(heights)\n",
    "\n",
    "print(f\"Mean: {mean_heights:.2f}, Median: {median_heights}, Standard Deviation: {std_dev_heights:.2f}\")\n",
    "\n",
    "# 2. Create a new array with the heights normalized\n",
    "normalized_heights = (heights - mean_heights) / std_dev_heights\n",
    "print(\"Normalized Heights:\", normalized_heights)\n",
    "\n",
    "# 3. Determine the tallest and shortest students in the class\n",
    "tallest_student_idx = np.argmax(heights)\n",
    "shortest_student_idx = np.argmin(heights)\n",
    "print(f\"Tallest student index: {tallest_student_idx}, Shortest student index: {shortest_student_idx}\")\n",
    "\n",
    "# 4. Calculate the difference between the tallest and shortest students' heights\n",
    "height_diff = heights[tallest_student_idx] - heights[shortest_student_idx]\n",
    "print(f\"Height difference: {height_diff} cm\")\n",
    "\n",
    "# 5. Randomly select 5 heights from the dataset without replacement\n",
    "np.random.seed(42)  # Optional: for reproducibility\n",
    "random_selection = np.random.choice(heights, size=5, replace=False)\n",
    "print(\"Randomly selected heights:\", random_selection)\n",
    "\n"
   ]
  }
 ],
 "metadata": {
  "kernelspec": {
   "display_name": "Python 3 (ipykernel)",
   "language": "python",
   "name": "python3"
  },
  "language_info": {
   "codemirror_mode": {
    "name": "ipython",
    "version": 3
   },
   "file_extension": ".py",
   "mimetype": "text/x-python",
   "name": "python",
   "nbconvert_exporter": "python",
   "pygments_lexer": "ipython3",
   "version": "3.12.4"
  }
 },
 "nbformat": 4,
 "nbformat_minor": 5
}
